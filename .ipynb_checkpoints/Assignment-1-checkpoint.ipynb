{
 "cells": [
  {
   "cell_type": "code",
   "execution_count": 1,
   "metadata": {
    "collapsed": true
   },
   "outputs": [],
   "source": [
    "import numpy as np"
   ]
  },
  {
   "cell_type": "code",
   "execution_count": 57,
   "metadata": {},
   "outputs": [],
   "source": [
    "def L1FeatureSign(A, gamma, y):\n",
    "    pseudo = np.matmul(A.T, A)\n",
    "    theta = np.zeros(pseudo.shape[0], dtype=np.int8)\n",
    "    x = np.zeros(pseudo.shape[0])\n",
    "    ATy = np.dot(A.T, y)\n",
    "    gradient = -2 * ATy\n",
    "    active_set = set()\n",
    "    y2 = np.dot(y.T, y)\n",
    "    \n",
    "    flag1 = True\n",
    "    flag2 = False\n",
    "    \n",
    "    while flag1 or flag2:\n",
    "        if not flag2:\n",
    "            xi = np.argmax(np.abs(gradient) * (theta==0))\n",
    "            if gradient[xi] > gamma:\n",
    "                theta[xi] = -1\n",
    "                active_set.add(xi)\n",
    "            elif gradient[xi] < -gamma:\n",
    "                theta[xi] = 1\n",
    "                active_set.add(xi)\n",
    "            \n",
    "        indices = np.array(sorted(active_set))\n",
    "        pseudoHat = pseudo[np.ix_(indices, indices)]\n",
    "        ATyHat = ATy[indices]\n",
    "        thetaHat = theta[indices]\n",
    "        b = ATyHat-(gamma*thetaHat)/2\n",
    "        xHat = np.linalg.solve(np.atleast_2d(pseudoHat), b)\n",
    "        thetaNew = np.sign(xHat)\n",
    "        oldx = x[indices]\n",
    "        signChanges = np.where(abs(thetaNew - thetaHat) > 1)[0]\n",
    "        if len(signChanges) > 0:\n",
    "            best_x = xHat\n",
    "            Ax2 = np.dot(xHat, np.dot(ATyHat,xHat))\n",
    "            ab = np.dot(xHat, ATyHat)\n",
    "            obj = (y2 + Ax2- 2 * ab + gamma*abs(xHat).sum())\n",
    "            for sign in signChanges:\n",
    "                x = xHat[sign]\n",
    "                y = oldx[sign]\n",
    "                prop = y / (y - x)\n",
    "                curr = oldx - prop * (oldx - xHat)\n",
    "                temp1 = np.dot(curr, np.dot(pseudoHat, curr))\n",
    "                temp2 = np.dot(curr, ATyHat)\n",
    "                currentCost = y2 + (temp1-2*temp2+ gamma*abs(curr).sum())\n",
    "                if currentCost < obj:\n",
    "                    obj = currentCost\n",
    "                    best_prop = prop\n",
    "                    best_x = curr\n",
    "        else:\n",
    "            best_x = xHat\n",
    "        x[indices] = best_x\n",
    "        zeros = indices[np.abs(x[indices]) < 1e-18]\n",
    "        x[zeros] = 0.\n",
    "        theta[indices] = np.int8(np.sign(x[indices]))\n",
    "        active_set.difference_update(zeros)\n",
    "        gradient = - 2 * ATy + 2 * np.dot(pseudo, x)\n",
    "        z = np.max(abs(gradient[theta == 0]))\n",
    "        #z=np.inf\n",
    "        nz = np.max(abs(gradient[theta != 0] + gamma * theta[theta != 0]))\n",
    "        \n",
    "        if z > gamma:\n",
    "            flag1 = True\n",
    "        else:\n",
    "            flag1 = False\n",
    "            \n",
    "        if not np.allclose(nz,0):\n",
    "            flag2 = True\n",
    "        else:\n",
    "            flag2 = False\n",
    "    return x\n",
    "          "
   ]
  },
  {
   "cell_type": "code",
   "execution_count": 58,
   "metadata": {},
   "outputs": [
    {
     "name": "stdout",
     "output_type": "stream",
     "text": [
      "[1]\n",
      "[0 1]\n",
      "[0 1 3]\n",
      "[0 1 2 3]\n"
     ]
    },
    {
     "data": {
      "text/plain": [
       "array([3.85, 5.85, 1.85, 2.85, 0.  , 0.  ])"
      ]
     },
     "execution_count": 58,
     "metadata": {},
     "output_type": "execute_result"
    }
   ],
   "source": [
    "A = np.array([[1,0,0,0,0,0],[0,1,0,0,0,0],[0,0,1,0,1,0],[0,0,0,1,0,1]])\n",
    "\n",
    "gamma = 0.3\n",
    "y = np.array([4,6,2,3])\n",
    "\n",
    "x = L1FeatureSign(A,gamma,y)\n",
    "x\n"
   ]
  }
 ],
 "metadata": {
  "kernelspec": {
   "display_name": "Python [conda env:anaconda2]",
   "language": "python",
   "name": "conda-env-anaconda2-py"
  },
  "language_info": {
   "codemirror_mode": {
    "name": "ipython",
    "version": 2
   },
   "file_extension": ".py",
   "mimetype": "text/x-python",
   "name": "python",
   "nbconvert_exporter": "python",
   "pygments_lexer": "ipython2",
   "version": "2.7.14"
  }
 },
 "nbformat": 4,
 "nbformat_minor": 2
}
