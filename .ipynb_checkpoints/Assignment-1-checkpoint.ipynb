{
 "cells": [
  {
   "cell_type": "code",
   "execution_count": 1,
   "metadata": {
    "collapsed": true
   },
   "outputs": [],
   "source": [
    "import numpy as np"
   ]
  },
  {
   "cell_type": "code",
   "execution_count": 23,
   "metadata": {},
   "outputs": [],
   "source": [
    "def L1FeatureSign(A, gamma, y):\n",
    "    theta = np.zeros(A.shape[1], dtype=np.int8)\n",
    "    x = np.zeros(A.shape[1])\n",
    "    ATy = np.dot(A.T, y)\n",
    "    gradient = -2 * ATy\n",
    "    active_set = set()\n",
    "    y2 = np.dot(y.T, y)\n",
    "    pseudo = np.matmul(A.T, A)\n",
    "    flag1 = True\n",
    "    flag2 = True\n",
    "    \n",
    "    while flag1 or flag2:\n",
    "        if not flag2:\n",
    "            xi = np.argmax(np.abs(gradient) * (theta==0))\n",
    "            if gradient[xi] > gamma:\n",
    "                theta[xi] = -1\n",
    "                active_set.add(xi)\n",
    "            elif gradient[xi] < -gamma:\n",
    "                theta[xi] = 1\n",
    "                active_set.add(xi)\n",
    "            \n",
    "        indices = np.array(sorted(active_set))\n",
    "        pseudoHat = pseudo[np.ix_(indices, indices)]\n",
    "        ATyHat = ATy[indices]\n",
    "        thetaHat = theta[indices]\n",
    "        b = ATyHat-(gamma*thetaHat)/2\n",
    "        xHat = np.linalg.solve(pseudoHat, b)\n",
    "        thetaNew = np.sign(xHat)\n",
    "        oldx = xHat[indices]\n",
    "        signChanges = np.where(abs(thetaNew - thetaHat) > 1)[0]\n",
    "        if len(signChanges) > 0:\n",
    "            best_x = xHat\n",
    "            Ax2 = np.dot(xHat, np.dot(ATyHat,xHat))\n",
    "            ab = np.dot(xHat, ATyHat)\n",
    "            obj = (y2 + Ax2- 2 * ab + gamma*abs(xHat).sum())\n",
    "            for sign in signChanges:\n",
    "                x = xHat[sign]\n",
    "                y = oldx[sign]\n",
    "                prop = y / (y - x)\n",
    "                curr = oldx - prop * (oldx - xHat)\n",
    "                temp1 = np.dot(curr, np.dot(pseudoHat, curr))\n",
    "                temp2 = np.dot(curr, ATyHat)\n",
    "                currentCost = y2 + (temp1-2*temp2+ gamma*abs(curr).sum())\n",
    "                if currentCost < obj:\n",
    "                    obj = currentCost\n",
    "                    best_prop = prop\n",
    "                    best_x = curr\n",
    "        x[indices] = best_x\n",
    "        zeros = indices[np.abs(x[indices]) < 1e-18]\n",
    "        x[zeros] = 0.\n",
    "        theta[indices] = np.int(np.sign(x[indices]))\n",
    "        active_set.difference_update(zeros)\n",
    "        gradient = - 2 * ATy + 2 * np.dot(pseudo, x)\n",
    "        z = np.max(abs(gradient[theta == 0]))\n",
    "        nz = np.max(abs(gradient[theta != 0] + gamma * theta[theta != 0]))\n",
    "        \n",
    "        if z > gamma:\n",
    "            flag1 = True\n",
    "        else:\n",
    "            flag1 = False\n",
    "            \n",
    "        if not np.allclose(nz,0):\n",
    "            flag2 = True\n",
    "        else:\n",
    "            flag2 = False\n",
    "    return x\n",
    "          "
   ]
  },
  {
   "cell_type": "code",
   "execution_count": 24,
   "metadata": {},
   "outputs": [
    {
     "ename": "IndexError",
     "evalue": "arrays used as indices must be of integer (or boolean) type",
     "output_type": "error",
     "traceback": [
      "\u001b[0;31m---------------------------------------------------------------------------\u001b[0m",
      "\u001b[0;31mIndexError\u001b[0m                                Traceback (most recent call last)",
      "\u001b[0;32m<ipython-input-24-9940ba589bf0>\u001b[0m in \u001b[0;36m<module>\u001b[0;34m()\u001b[0m\n\u001b[1;32m      4\u001b[0m \u001b[0my\u001b[0m \u001b[0;34m=\u001b[0m \u001b[0mnp\u001b[0m\u001b[0;34m.\u001b[0m\u001b[0marray\u001b[0m\u001b[0;34m(\u001b[0m\u001b[0;34m[\u001b[0m\u001b[0;36m4\u001b[0m\u001b[0;34m,\u001b[0m\u001b[0;36m6\u001b[0m\u001b[0;34m,\u001b[0m\u001b[0;36m2\u001b[0m\u001b[0;34m,\u001b[0m\u001b[0;36m8\u001b[0m\u001b[0;34m]\u001b[0m\u001b[0;34m)\u001b[0m\u001b[0;34m\u001b[0m\u001b[0m\n\u001b[1;32m      5\u001b[0m \u001b[0;34m\u001b[0m\u001b[0m\n\u001b[0;32m----> 6\u001b[0;31m \u001b[0mx\u001b[0m \u001b[0;34m=\u001b[0m \u001b[0mL1FeatureSign\u001b[0m\u001b[0;34m(\u001b[0m\u001b[0mA\u001b[0m\u001b[0;34m,\u001b[0m\u001b[0mgamma\u001b[0m\u001b[0;34m,\u001b[0m\u001b[0my\u001b[0m\u001b[0;34m)\u001b[0m\u001b[0;34m\u001b[0m\u001b[0m\n\u001b[0m\u001b[1;32m      7\u001b[0m \u001b[0mx\u001b[0m\u001b[0;34m\u001b[0m\u001b[0m\n",
      "\u001b[0;32m<ipython-input-23-6003452a06e5>\u001b[0m in \u001b[0;36mL1FeatureSign\u001b[0;34m(A, gamma, y)\u001b[0m\n\u001b[1;32m     22\u001b[0m         \u001b[0mindices\u001b[0m \u001b[0;34m=\u001b[0m \u001b[0mnp\u001b[0m\u001b[0;34m.\u001b[0m\u001b[0marray\u001b[0m\u001b[0;34m(\u001b[0m\u001b[0msorted\u001b[0m\u001b[0;34m(\u001b[0m\u001b[0mactive_set\u001b[0m\u001b[0;34m)\u001b[0m\u001b[0;34m)\u001b[0m\u001b[0;34m\u001b[0m\u001b[0m\n\u001b[1;32m     23\u001b[0m         \u001b[0mpseudoHat\u001b[0m \u001b[0;34m=\u001b[0m \u001b[0mpseudo\u001b[0m\u001b[0;34m[\u001b[0m\u001b[0mnp\u001b[0m\u001b[0;34m.\u001b[0m\u001b[0mix_\u001b[0m\u001b[0;34m(\u001b[0m\u001b[0mindices\u001b[0m\u001b[0;34m,\u001b[0m \u001b[0mindices\u001b[0m\u001b[0;34m)\u001b[0m\u001b[0;34m]\u001b[0m\u001b[0;34m\u001b[0m\u001b[0m\n\u001b[0;32m---> 24\u001b[0;31m         \u001b[0mATyHat\u001b[0m \u001b[0;34m=\u001b[0m \u001b[0mATy\u001b[0m\u001b[0;34m[\u001b[0m\u001b[0mindices\u001b[0m\u001b[0;34m]\u001b[0m\u001b[0;34m\u001b[0m\u001b[0m\n\u001b[0m\u001b[1;32m     25\u001b[0m         \u001b[0mthetaHat\u001b[0m \u001b[0;34m=\u001b[0m \u001b[0mtheta\u001b[0m\u001b[0;34m[\u001b[0m\u001b[0mindices\u001b[0m\u001b[0;34m]\u001b[0m\u001b[0;34m\u001b[0m\u001b[0m\n\u001b[1;32m     26\u001b[0m         \u001b[0mb\u001b[0m \u001b[0;34m=\u001b[0m \u001b[0mATyHat\u001b[0m\u001b[0;34m-\u001b[0m\u001b[0;34m(\u001b[0m\u001b[0mgamma\u001b[0m\u001b[0;34m*\u001b[0m\u001b[0mthetaHat\u001b[0m\u001b[0;34m)\u001b[0m\u001b[0;34m/\u001b[0m\u001b[0;36m2\u001b[0m\u001b[0;34m\u001b[0m\u001b[0m\n",
      "\u001b[0;31mIndexError\u001b[0m: arrays used as indices must be of integer (or boolean) type"
     ]
    }
   ],
   "source": [
    "A = np.array([[1,0,0,0],[0,1,0,0],[0,0,1,0],[0,0,0,1]])\n",
    "\n",
    "gamma = 0.3\n",
    "y = np.array([4,6,2,8])\n",
    "\n",
    "x = L1FeatureSign(A,gamma,y)\n",
    "x\n"
   ]
  },
  {
   "cell_type": "code",
   "execution_count": 15,
   "metadata": {},
   "outputs": [
    {
     "data": {
      "text/plain": [
       "array([[1, 0, 0, 0],\n",
       "       [0, 1, 0, 0],\n",
       "       [0, 0, 1, 0],\n",
       "       [0, 0, 0, 1]])"
      ]
     },
     "execution_count": 15,
     "metadata": {},
     "output_type": "execute_result"
    }
   ],
   "source": [
    "A"
   ]
  },
  {
   "cell_type": "code",
   "execution_count": null,
   "metadata": {
    "collapsed": true
   },
   "outputs": [],
   "source": []
  }
 ],
 "metadata": {
  "kernelspec": {
   "display_name": "Python [conda env:anaconda2]",
   "language": "python",
   "name": "conda-env-anaconda2-py"
  },
  "language_info": {
   "codemirror_mode": {
    "name": "ipython",
    "version": 2
   },
   "file_extension": ".py",
   "mimetype": "text/x-python",
   "name": "python",
   "nbconvert_exporter": "python",
   "pygments_lexer": "ipython2",
   "version": "2.7.14"
  }
 },
 "nbformat": 4,
 "nbformat_minor": 2
}
